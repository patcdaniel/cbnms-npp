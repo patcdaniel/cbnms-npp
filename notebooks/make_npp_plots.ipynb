{
 "cells": [
  {
   "cell_type": "code",
   "execution_count": 29,
   "id": "a9dece0c-2208-4a6d-8111-fd7195e41e92",
   "metadata": {},
   "outputs": [],
   "source": [
    "import matplotlib.pyplot as plt\n",
    "import seaborn as sns\n",
    "import pandas as pd\n",
    "import numpy as np"
   ]
  },
  {
   "cell_type": "code",
   "execution_count": 55,
   "id": "9b1f6e61-1828-40aa-a10e-8a67a51fca06",
   "metadata": {},
   "outputs": [
    {
     "data": {
      "text/html": [
       "<div>\n",
       "<style scoped>\n",
       "    .dataframe tbody tr th:only-of-type {\n",
       "        vertical-align: middle;\n",
       "    }\n",
       "\n",
       "    .dataframe tbody tr th {\n",
       "        vertical-align: top;\n",
       "    }\n",
       "\n",
       "    .dataframe thead th {\n",
       "        text-align: right;\n",
       "    }\n",
       "</style>\n",
       "<table border=\"1\" class=\"dataframe\">\n",
       "  <thead>\n",
       "    <tr style=\"text-align: right;\">\n",
       "      <th></th>\n",
       "      <th>npp_mean</th>\n",
       "      <th>npp_std</th>\n",
       "      <th>npp_count</th>\n",
       "      <th>date</th>\n",
       "      <th>month</th>\n",
       "      <th>year</th>\n",
       "    </tr>\n",
       "    <tr>\n",
       "      <th>date</th>\n",
       "      <th></th>\n",
       "      <th></th>\n",
       "      <th></th>\n",
       "      <th></th>\n",
       "      <th></th>\n",
       "      <th></th>\n",
       "    </tr>\n",
       "  </thead>\n",
       "  <tbody>\n",
       "    <tr>\n",
       "      <th>2021-05-08</th>\n",
       "      <td>1245.755283</td>\n",
       "      <td>561.038769</td>\n",
       "      <td>3502</td>\n",
       "      <td>2021-05-08</td>\n",
       "      <td>5</td>\n",
       "      <td>2021</td>\n",
       "    </tr>\n",
       "    <tr>\n",
       "      <th>2021-05-09</th>\n",
       "      <td>1269.760137</td>\n",
       "      <td>570.905714</td>\n",
       "      <td>3502</td>\n",
       "      <td>2021-05-09</td>\n",
       "      <td>5</td>\n",
       "      <td>2021</td>\n",
       "    </tr>\n",
       "    <tr>\n",
       "      <th>2021-05-10</th>\n",
       "      <td>1244.393775</td>\n",
       "      <td>557.987466</td>\n",
       "      <td>3502</td>\n",
       "      <td>2021-05-10</td>\n",
       "      <td>5</td>\n",
       "      <td>2021</td>\n",
       "    </tr>\n",
       "    <tr>\n",
       "      <th>2021-05-11</th>\n",
       "      <td>1241.925757</td>\n",
       "      <td>559.085096</td>\n",
       "      <td>3502</td>\n",
       "      <td>2021-05-11</td>\n",
       "      <td>5</td>\n",
       "      <td>2021</td>\n",
       "    </tr>\n",
       "    <tr>\n",
       "      <th>2021-05-12</th>\n",
       "      <td>1246.533740</td>\n",
       "      <td>476.554689</td>\n",
       "      <td>2786</td>\n",
       "      <td>2021-05-12</td>\n",
       "      <td>5</td>\n",
       "      <td>2021</td>\n",
       "    </tr>\n",
       "  </tbody>\n",
       "</table>\n",
       "</div>"
      ],
      "text/plain": [
       "               npp_mean     npp_std  npp_count       date  month  year\n",
       "date                                                                  \n",
       "2021-05-08  1245.755283  561.038769       3502 2021-05-08      5  2021\n",
       "2021-05-09  1269.760137  570.905714       3502 2021-05-09      5  2021\n",
       "2021-05-10  1244.393775  557.987466       3502 2021-05-10      5  2021\n",
       "2021-05-11  1241.925757  559.085096       3502 2021-05-11      5  2021\n",
       "2021-05-12  1246.533740  476.554689       2786 2021-05-12      5  2021"
      ]
     },
     "execution_count": 55,
     "metadata": {},
     "output_type": "execute_result"
    }
   ],
   "source": [
    "df = pd.read_csv(\"../data/cbnms_npp_daily.csv\")\n",
    "df['date'] = pd.to_datetime(df['date'])\n",
    "df.index = df['date']\n",
    "df['month'] = df['date'].dt.month\n",
    "df['year'] = df['date'].dt.year\n",
    "df.tail()"
   ]
  },
  {
   "cell_type": "code",
   "execution_count": 56,
   "id": "d3747ec6-6a4d-46a9-a54e-89bfe0048e0a",
   "metadata": {},
   "outputs": [
    {
     "data": {
      "text/html": [
       "<div>\n",
       "<style scoped>\n",
       "    .dataframe tbody tr th:only-of-type {\n",
       "        vertical-align: middle;\n",
       "    }\n",
       "\n",
       "    .dataframe tbody tr th {\n",
       "        vertical-align: top;\n",
       "    }\n",
       "\n",
       "    .dataframe thead th {\n",
       "        text-align: right;\n",
       "    }\n",
       "</style>\n",
       "<table border=\"1\" class=\"dataframe\">\n",
       "  <thead>\n",
       "    <tr style=\"text-align: right;\">\n",
       "      <th></th>\n",
       "      <th>npp_mean</th>\n",
       "      <th>npp_std</th>\n",
       "      <th>npp_count</th>\n",
       "      <th>date</th>\n",
       "      <th>month</th>\n",
       "      <th>year</th>\n",
       "      <th>season</th>\n",
       "    </tr>\n",
       "    <tr>\n",
       "      <th>date</th>\n",
       "      <th></th>\n",
       "      <th></th>\n",
       "      <th></th>\n",
       "      <th></th>\n",
       "      <th></th>\n",
       "      <th></th>\n",
       "      <th></th>\n",
       "    </tr>\n",
       "  </thead>\n",
       "  <tbody>\n",
       "    <tr>\n",
       "      <th>1996-11-01</th>\n",
       "      <td>1127.049608</td>\n",
       "      <td>375.267084</td>\n",
       "      <td>383</td>\n",
       "      <td>1996-11-01</td>\n",
       "      <td>11</td>\n",
       "      <td>1996</td>\n",
       "      <td>Winter</td>\n",
       "    </tr>\n",
       "    <tr>\n",
       "      <th>1996-11-02</th>\n",
       "      <td>NaN</td>\n",
       "      <td>NaN</td>\n",
       "      <td>0</td>\n",
       "      <td>1996-11-02</td>\n",
       "      <td>11</td>\n",
       "      <td>1996</td>\n",
       "      <td>Winter</td>\n",
       "    </tr>\n",
       "    <tr>\n",
       "      <th>1996-11-03</th>\n",
       "      <td>612.403484</td>\n",
       "      <td>255.105591</td>\n",
       "      <td>3502</td>\n",
       "      <td>1996-11-03</td>\n",
       "      <td>11</td>\n",
       "      <td>1996</td>\n",
       "      <td>Winter</td>\n",
       "    </tr>\n",
       "    <tr>\n",
       "      <th>1996-11-04</th>\n",
       "      <td>610.116219</td>\n",
       "      <td>249.345252</td>\n",
       "      <td>3502</td>\n",
       "      <td>1996-11-04</td>\n",
       "      <td>11</td>\n",
       "      <td>1996</td>\n",
       "      <td>Winter</td>\n",
       "    </tr>\n",
       "    <tr>\n",
       "      <th>1996-11-05</th>\n",
       "      <td>NaN</td>\n",
       "      <td>NaN</td>\n",
       "      <td>0</td>\n",
       "      <td>1996-11-05</td>\n",
       "      <td>11</td>\n",
       "      <td>1996</td>\n",
       "      <td>Winter</td>\n",
       "    </tr>\n",
       "  </tbody>\n",
       "</table>\n",
       "</div>"
      ],
      "text/plain": [
       "               npp_mean     npp_std  npp_count       date  month  year  season\n",
       "date                                                                          \n",
       "1996-11-01  1127.049608  375.267084        383 1996-11-01     11  1996  Winter\n",
       "1996-11-02          NaN         NaN          0 1996-11-02     11  1996  Winter\n",
       "1996-11-03   612.403484  255.105591       3502 1996-11-03     11  1996  Winter\n",
       "1996-11-04   610.116219  249.345252       3502 1996-11-04     11  1996  Winter\n",
       "1996-11-05          NaN         NaN          0 1996-11-05     11  1996  Winter"
      ]
     },
     "execution_count": 56,
     "metadata": {},
     "output_type": "execute_result"
    }
   ],
   "source": [
    "def season(month):\n",
    "    \"\"\"\n",
    "    Return the season based on the Month:\n",
    "    Nov to Feb = Winter\n",
    "    March to June = Upwelling\n",
    "    July to Oct = Relaxation\n",
    "    \"\"\"\n",
    "    if (month < 3) | (month > 10):\n",
    "        return \"Winter\"\n",
    "    \n",
    "    elif (month < 7):\n",
    "        return \"Upwelling\"\n",
    "    \n",
    "    else:\n",
    "        return \"Relaxation\"\n",
    "    \n",
    "df['season'] = df['month'].apply(season)\n",
    "df.head()"
   ]
  },
  {
   "cell_type": "markdown",
   "id": "6e839f78-28f4-4f49-a6ba-84ca99f5d71e",
   "metadata": {},
   "source": [
    "__Caculate the Seasonal Means for the entire timeseries__"
   ]
  },
  {
   "cell_type": "code",
   "execution_count": 61,
   "id": "b55fe032-b665-4c74-9ba9-4ab7418fe645",
   "metadata": {},
   "outputs": [
    {
     "data": {
      "text/plain": [
       "season\n",
       "Relaxation    1032.348068\n",
       "Upwelling      966.782952\n",
       "Winter         550.869011\n",
       "Name: npp_mean, dtype: float64"
      ]
     },
     "execution_count": 61,
     "metadata": {},
     "output_type": "execute_result"
    }
   ],
   "source": [
    "df.groupby('season')['npp_mean'].mean()"
   ]
  },
  {
   "cell_type": "markdown",
   "id": "6b9c97d8-0c03-4ef9-836f-15ac17470811",
   "metadata": {},
   "source": [
    "Calculate the mean for each season"
   ]
  },
  {
   "cell_type": "code",
   "execution_count": 94,
   "id": "a6e5c7f7-35ba-4f8b-8d85-a4078e604d4d",
   "metadata": {},
   "outputs": [
    {
     "data": {
      "image/png": "[encoded data removed]",
      "text/plain": [
       "<Figure size 864x432 with 1 Axes>"
      ]
     },
     "metadata": {
      "needs_background": "light"
     },
     "output_type": "display_data"
    }
   ],
   "source": [
    "sns.set_context('talk')\n",
    "fig, ax = plt.subplots()\n",
    "fig.set_size_inches(12,6)\n",
    "\n",
    "short = df.query(\"year > 2009 & year < 2020\")\n",
    "\n",
    "palette = ['#B5CAD9', '#4D739E', '#BCD397']\n",
    "\n",
    "\n",
    "sns.barplot(\n",
    "    x='year', \n",
    "    y='npp_mean', \n",
    "    hue='season', \n",
    "    data=short, \n",
    "    estimator=np.mean, \n",
    "    palette=palette)\n",
    "\n",
    "# Relaxation\n",
    "ax.hlines(y=1032, xmin=-.5,xmax=9.5,lw=3,zorder=-1,color=\"#BCD397\")\n",
    "ax.hlines(y=1032, xmin=-.5,xmax=9.5,lw=5,zorder=-2,color=\"k\")\n",
    "\n",
    "# Upwelling\n",
    "ax.hlines(y=966, xmin=-.5,xmax=9.5,lw=3,zorder=-1,color=\"#4D739E\")\n",
    "ax.hlines(y=966, xmin=-.5,xmax=9.5,lw=5,zorder=-2,color=\"k\")\n",
    "# Winter\n",
    "ax.hlines(y=550, xmin=-.5,xmax=9.5,lw=3,zorder=-1,color=\"#B5CAD9\")\n",
    "ax.hlines(y=550, xmin=-.5,xmax=9.5,lw=5,zorder=-2,color=\"k\")\n",
    "\n",
    "plt.legend(ncol=3, frameon=False,loc=(0,1))\n",
    "ax.set_xlabel(None)\n",
    "ax.set_ylabel(\"NPP\\n $ \\mathrm{ mg\\ C\\ m^{-2}\\ day^{-1} }$\")\n",
    "ax.set_xlim(-.5,9.5)\n",
    "sns.despine()\n",
    "ax.get_xlim()\n",
    "\n",
    "plt.savefig('../npp_cbnms_mean.png',dpi=300)"
   ]
  },
  {
   "cell_type": "markdown",
   "id": "799a9126-3b7c-4057-b447-f2d8ba62c194",
   "metadata": {},
   "source": [
    "### Other Plots ###"
   ]
  },
  {
   "cell_type": "code",
   "execution_count": 98,
   "id": "9bafba8e-9838-4c0d-9b93-71c8eb1a316b",
   "metadata": {},
   "outputs": [
    {
     "data": {
      "image/png": "[encoded data removed]",
      "text/plain": [
       "<Figure size 864x432 with 1 Axes>"
      ]
     },
     "metadata": {
      "needs_background": "light"
     },
     "output_type": "display_data"
    }
   ],
   "source": [
    "sns.set_context('talk')\n",
    "fig, ax = plt.subplots()\n",
    "fig.set_size_inches(12,6)\n",
    "\n",
    "short = df.query(\"year > 2009 & year < 2020\")\n",
    "\n",
    "palette = ['#B5CAD9', '#4D739E', '#BCD397']\n",
    "\n",
    "\n",
    "sns.boxplot(\n",
    "    x='year', \n",
    "    y='npp_mean', \n",
    "    hue='season', \n",
    "    data=short, \n",
    "    palette=palette)\n",
    "\n",
    "# Relaxation\n",
    "ax.hlines(y=1032, xmin=-.5,xmax=9.5,lw=3,zorder=-1,color=\"#BCD397\")\n",
    "ax.hlines(y=1032, xmin=-.5,xmax=9.5,lw=5,zorder=-2,color=\"k\")\n",
    "\n",
    "# Upwelling\n",
    "ax.hlines(y=966, xmin=-.5,xmax=9.5,lw=3,zorder=-1,color=\"#4D739E\")\n",
    "ax.hlines(y=966, xmin=-.5,xmax=9.5,lw=5,zorder=-2,color=\"k\")\n",
    "# Winter\n",
    "ax.hlines(y=550, xmin=-.5,xmax=9.5,lw=3,zorder=-1,color=\"#B5CAD9\")\n",
    "ax.hlines(y=550, xmin=-.5,xmax=9.5,lw=5,zorder=-2,color=\"k\")\n",
    "\n",
    "plt.legend(ncol=3, frameon=False,loc=(0,1))\n",
    "ax.set_xlabel(None)\n",
    "ax.set_ylabel(\"NPP\\n $ \\mathrm{ mg\\ C\\ m^{-2}\\ day^{-1} }$\")\n",
    "ax.set_xlim(-.5,9.5)\n",
    "sns.despine()\n",
    "ax.get_xlim()\n",
    "\n",
    "# plt.savefig('../npp_cbnms_box.png',dpi=300)"
   ]
  },
  {
   "cell_type": "code",
   "execution_count": null,
   "id": "4bf5e248-7a07-47b6-834b-980d3bce38a3",
   "metadata": {},
   "outputs": [],
   "source": []
  }
 ],
 "metadata": {
  "kernelspec": {
   "display_name": "Python 3",
   "language": "python",
   "name": "python3"
  },
  "language_info": {
   "codemirror_mode": {
    "name": "ipython",
    "version": 3
   },
   "file_extension": ".py",
   "mimetype": "text/x-python",
   "name": "python",
   "nbconvert_exporter": "python",
   "pygments_lexer": "ipython3",
   "version": "3.8.8"
  }
 },
 "nbformat": 4,
 "nbformat_minor": 5
}
